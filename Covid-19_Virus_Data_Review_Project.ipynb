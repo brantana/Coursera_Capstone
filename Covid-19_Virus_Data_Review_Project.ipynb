{
 "cells": [
  {
   "cell_type": "markdown",
   "metadata": {},
   "source": [
    "# Covid-19 Virus Data Review (Full Report)\n",
    "## New Method to enhance evaluation Moving Averages when weekly data repeats, but daily data sources vary."
   ]
  },
  {
   "cell_type": "markdown",
   "metadata": {},
   "source": [
    "### Description of the Problem and Discussion of the Background"
   ]
  },
  {
   "cell_type": "markdown",
   "metadata": {},
   "source": [
    "Timely and accurate trend information has been important to every individual throughout the current global pandemic.  We all need to know whether things are getting better or worse, whether to hunker down or go out, when we can expect to return to normalcy, and whether we can trust what our politicians to tell us the truth about things.<br><br>\n",
    "Johns Hopkins University began tracking the Covid-19 virus early on. Daily data has been available through their COVID-19 Dashboard, shown below. The image shown is dated 9/27/2020, 1:26 am CST."
   ]
  },
  {
   "cell_type": "markdown",
   "metadata": {},
   "source": [
    "![](img/100.png)"
   ]
  },
  {
   "cell_type": "markdown",
   "metadata": {},
   "source": [
    "Of interest in this study are the daily report graphics, highlighted in the graphics below. Of particular note is the saw-tooth pattern rather than the typically smooth data we might expect from consistent large data. A general 7-day pattern particularly emerges, which is likely due to the frequency and timeliness of data made available. The individual weekday data cannot truly be said to be as different as apples and oranges. However, they graphc shows that they are more akin to different varieties of apples from one day to the next, and repeated weekly. This pattern appears in all of the Daily graphs. Regardless of region or statistic the same patter emerges."
   ]
  },
  {
   "cell_type": "markdown",
   "metadata": {},
   "source": [
    "The most recent source Information, Links and Terms of Use are available from their referenced Repository in [GitHub.](https://github.com/CSSEGISandData/COVID-19.git)"
   ]
  },
  {
   "cell_type": "markdown",
   "metadata": {},
   "source": [
    "![](img/120.png)"
   ]
  },
  {
   "cell_type": "markdown",
   "metadata": {},
   "source": [
    "In general a 7-day Moving Average might smooth this data. However, the change from one day to the next seems significant enough that it might become it difficult to discern the actual trend in the virus, whether dynamically increasing, inflecting or decreasing."
   ]
  },
  {
   "cell_type": "markdown",
   "metadata": {},
   "source": [
    "This study considers a method to score the COVID-19 trending data through \"voting moving averages\" over the current and preceeding 7 days to gain an predictive index which can better indicate the dynamic trend."
   ]
  },
  {
   "cell_type": "markdown",
   "metadata": {},
   "source": [
    "The discussion thus far has focused upon Global Daily Cases. For purposes of this study, a subset is used, which focuses upon Texas Daily Cases. Although this narrows down the source information significantly, it is clear in the following that the same 7-day pattern prevails, but appears worse, as illustrated in he following graph from 9/27/2020 10:40 PM. The Texas plot illustrates how difficult it may be to determine from one day to the next whether they are winning the fight; ie: new cases are declining."
   ]
  },
  {
   "cell_type": "markdown",
   "metadata": {},
   "source": [
    "![](img/200.png)"
   ]
  },
  {
   "cell_type": "markdown",
   "metadata": {},
   "source": [
    "### Description of the Data and How it is to be Used to Solve the Problem."
   ]
  },
  {
   "cell_type": "markdown",
   "metadata": {},
   "source": [
    "Global US data is to be downloaded directly from Johns Hopkins, to a Dataframe. It will be scrubbed leaving only the pertinent information relating to Texas Daily Cases."
   ]
  },
  {
   "cell_type": "markdown",
   "metadata": {},
   "source": [
    "The revised dataset will be considered to contain information from an undefined subset of the whole source list.  However, there is little value in identifying the specific sources, as it is considered that the appropriate sources are sampled over various days. No assumption is made as to the specific time, day, or date of the individual source samplings, and though there may be an assumption that most of the individual data is generally sampled from one week to the next. The writer believes this may be sufficient periodicity to significantly smooth the data for good result. "
   ]
  },
  {
   "cell_type": "markdown",
   "metadata": {},
   "source": [
    "For example, considering a simple up (positive), down (negative), even (unchanging) average scoring system:\n",
    " - suppose in the past week that all seven dynamic moving averages concluded positive slopes. This would be a strong indicator of increasing daily new cases. \n",
    " - Likewise, seven negative dynamic moving averages would strongly indicate a reducing number of new cases. \n",
    " - A mixed, but smoothly transitioning result, though less strong, might contain some useful trend information especially if comparison with previous dates could be shown to support the predicted transition.  In this case, previous analyses may help validate the predicted trend, and might do so with some signicant reliability given the increased number of data points contributed by the previous week(s).\n",
    " - Least helpful, and indicating only uncertainty is a mixed result lacking any trend. Such a result would clearly contribute less overall trending information, either up or down or steady."
   ]
  },
  {
   "cell_type": "markdown",
   "metadata": {},
   "source": [
    "An improvement to the above may be a normalized numerical average. This scheme will be reviewed as well."
   ]
  },
  {
   "cell_type": "markdown",
   "metadata": {},
   "source": [
    "As the premise of this approach is that weekday sources change, what we are really saying is that Sunday, Monday, Tuesday, Wednesday, Thursday, Friday, and Saturday data are each different from each other as apples, oranges, bananas, ... etc. That is to say that if they were all apples then a moving average analysis would be sufficient. Review of the patterns in the graph indicate that they are not all \"apples.\""
   ]
  },
  {
   "cell_type": "markdown",
   "metadata": {},
   "source": [
    "Because of this variety normalized and proportionalized data may yield to KNN analysis, demonstrating the degree to which the week day data varies."
   ]
  },
  {
   "cell_type": "markdown",
   "metadata": {},
   "source": [
    "Ultimately, the overall data will be treated to Moving Average analysis, and its trend will be compared to that of the Dynamic Moving Average analysis. "
   ]
  },
  {
   "cell_type": "markdown",
   "metadata": {},
   "source": [
    "### Link to Project Notebook in Github Repository containing Code"
   ]
  },
  {
   "cell_type": "markdown",
   "metadata": {},
   "source": [
    "### Data and Analysis"
   ]
  },
  {
   "cell_type": "code",
   "execution_count": 8,
   "metadata": {},
   "outputs": [],
   "source": [
    "# IMPORT PACKAGES\n",
    "import pandas as pd\n",
    "import numpy as np\n",
    "\n",
    "import matplotlib.pyplot as plt\n",
    "plt.style.use('classic')\n",
    "%matplotlib inline\n",
    "import seaborn as sns\n",
    "sns.set\n",
    "import matplotlib.ticker as ticker\n",
    "\n",
    "import matplotlib.dates as mdates\n"
   ]
  },
  {
   "cell_type": "code",
   "execution_count": 9,
   "metadata": {},
   "outputs": [],
   "source": [
    "# IMPORT CONFIRMED US CASES FROM GIT (JOHNS HOPKINS DATA) AND READ TO A MASTER DATAFILE\n",
    "url_confirmed_US=\"https://raw.githubusercontent.com/CSSEGISandData/COVID-19/master/csse_covid_19_data/csse_covid_19_time_series/time_series_covid19_confirmed_US.csv\"\n",
    "# REDUCE THE DATAFILES TO INCLUDE USA AND TEXAS INFORMATION\n",
    "confirmed_US=pd.read_csv(url_confirmed_US)\n",
    "confirmed_TX=confirmed_US.loc[confirmed_US['Province_State'] == \"Texas\"]\n",
    "# SCRUB IRRELEVENT COLUMNS TO SIMPLIFY TO VERSIONS A & B\n",
    "#   A IS TO BE MAINTAIN SPECIFIC SOURCE DATA & B IS TO CONTAIN ONLY NUMERIC DATA.\n",
    "confirmed_US_A=confirmed_US.drop(['UID','iso2','iso3','Province_State','code3','FIPS','Country_Region','Lat','Long_','Combined_Key'],axis=1)\n",
    "confirmed_US_B=confirmed_US_A.drop(['Admin2'],axis=1)\n",
    "confirmed_TX_A=confirmed_TX.drop(['UID','iso2','iso3','Province_State','code3','FIPS','Country_Region','Lat','Long_','Combined_Key'],axis=1)\n",
    "confirmed_TX_B=confirmed_TX_A.drop(['Admin2'],axis=1)\n",
    "# DEVELOP DAILY CUMULATIVE SUM DATA\n",
    "confirmed_US_cumulative_sum=confirmed_US_B.sum(axis=0)\n",
    "confirmed_TX_cumulative_sum=confirmed_TX_B.sum(axis=0)\n",
    "# CONVERT CUMULATIVE DATA TO DIFFERENTIAL DATA\n",
    "confirmed_US_daily_sum=confirmed_US_cumulative_sum.diff().fillna(confirmed_US_cumulative_sum)\n",
    "confirmed_TX_daily_sum=confirmed_TX_cumulative_sum.diff().fillna(confirmed_TX_cumulative_sum)\n",
    "# DEVELOP DATAFRAME FOR DYNAMIC DATA ANALYSIS BY WEEKDAYS\n",
    "# US\n",
    "US_daily_sum_df_x=pd.DataFrame(data=confirmed_US_daily_sum)\n",
    "US_daily_sum_df=US_daily_sum_df_x.reset_index()\n",
    "US_daily_sum_df.columns = ['Date', 'Confirmed']\n",
    "US_daily_sum_df['Date']=pd.to_datetime(US_daily_sum_df.Date)\n",
    "x=US_daily_sum_df['Date'].dt.day_name()\n",
    "z=US_daily_sum_df['Date'].dt.month_name()\n",
    "US_daily_sum_df.insert(loc=1,column='Day',value=x, allow_duplicates=False)\n",
    "US_daily_sum_df.insert(loc=1,column='Month',value=z, allow_duplicates=False)\n",
    "# TEXAS\n",
    "TX_daily_sum_df_x=pd.DataFrame(data=confirmed_TX_daily_sum)\n",
    "TX_daily_sum_df=TX_daily_sum_df_x.reset_index()\n",
    "TX_daily_sum_df.columns = ['Date', 'Confirmed']\n",
    "TX_daily_sum_df['Date']=pd.to_datetime(TX_daily_sum_df.Date) \n",
    "x=TX_daily_sum_df['Date'].dt.day_name()\n",
    "TX_daily_sum_df.insert(loc=1,column='Day',value=x, allow_duplicates=False)\n",
    "TX=US_daily_sum_df['Date'].dt.month_name()\n",
    "TX_daily_sum_df.insert(loc=1,column='Month',value=z, allow_duplicates=False)"
   ]
  },
  {
   "cell_type": "code",
   "execution_count": 10,
   "metadata": {},
   "outputs": [
    {
     "data": {
      "text/plain": [
       "1/22/20    1.0\n",
       "1/23/20    0.0\n",
       "1/24/20    1.0\n",
       "1/25/20    0.0\n",
       "1/26/20    3.0\n",
       "dtype: float64"
      ]
     },
     "execution_count": 10,
     "metadata": {},
     "output_type": "execute_result"
    }
   ],
   "source": [
    "confirmed_US_daily_sum.head()"
   ]
  },
  {
   "cell_type": "code",
   "execution_count": 11,
   "metadata": {},
   "outputs": [
    {
     "name": "stdout",
     "output_type": "stream",
     "text": [
      "AxesSubplot(0.125,0.125;0.775x0.775)\n"
     ]
    },
    {
     "data": {
      "image/png": "[encoded data removed]",
      "text/plain": [
       "<Figure size 1296x288 with 1 Axes>"
      ]
     },
     "metadata": {
      "needs_background": "light"
     },
     "output_type": "display_data"
    }
   ],
   "source": [
    "# PLOT DIFFERENTIAL US DATA FOR REVIEW\n",
    "dat1=confirmed_US_daily_sum\n",
    "n=7\n",
    "ax=dat1.plot(kind='bar',y='Confirmed',figsize=(18,4))\n",
    "plt.suptitle('US Daily Confirmed Covid-19 Cases',fontsize=22)\n",
    "plt.xlabel('Date',fontsize=16)\n",
    "plt.ylabel('Daily Confirmed Cases',fontsize=16)\n",
    "ticks=ax.xaxis.get_ticklocs()\n",
    "ticklabels=[l.get_text() for l in ax.xaxis.get_ticklabels()]\n",
    "ax.xaxis.set_ticks(ticks[::n])\n",
    "ax.xaxis.set_ticklabels(ticklabels[::n])\n",
    "print(ax)"
   ]
  },
  {
   "cell_type": "code",
   "execution_count": 12,
   "metadata": {},
   "outputs": [
    {
     "name": "stdout",
     "output_type": "stream",
     "text": [
      "AxesSubplot(0.125,0.125;0.775x0.775)\n"
     ]
    },
    {
     "data": {
      "image/png": "[encoded data removed]",
      "text/plain": [
       "<Figure size 1296x288 with 1 Axes>"
      ]
     },
     "metadata": {
      "needs_background": "light"
     },
     "output_type": "display_data"
    }
   ],
   "source": [
    "# PLOT DIFFERENTIAL TX DATA FOR REVIEW\n",
    "dat1=confirmed_TX_daily_sum\n",
    "n=7\n",
    "ax=dat1.plot(kind='bar',y='Confirmed',figsize=(18,4))\n",
    "plt.suptitle('TX Daily Confirmed Covid-19 Cases',fontsize=22)\n",
    "plt.xlabel('Date',fontsize=16)\n",
    "plt.ylabel('Daily Confirmed Cases',fontsize=16)\n",
    "ticks=ax.xaxis.get_ticklocs()\n",
    "ticklabels=[l.get_text() for l in ax.xaxis.get_ticklabels()]\n",
    "ax.xaxis.set_ticks(ticks[::n])\n",
    "ax.xaxis.set_ticklabels(ticklabels[::n])\n",
    "print(ax)"
   ]
  },
  {
   "cell_type": "code",
   "execution_count": 5,
   "metadata": {},
   "outputs": [
    {
     "ename": "ValueError",
     "evalue": "cannot insert Slope, already exists",
     "output_type": "error",
     "traceback": [
      "\u001b[0;31m---------------------------------------------------------------------------\u001b[0m",
      "\u001b[0;31mValueError\u001b[0m                                Traceback (most recent call last)",
      "\u001b[0;32m<ipython-input-5-eec5965c7f11>\u001b[0m in \u001b[0;36m<module>\u001b[0;34m\u001b[0m\n\u001b[1;32m     54\u001b[0m \u001b[0mTX_weekly_slopes\u001b[0m\u001b[0;34m=\u001b[0m\u001b[0mTX_weekly_slopes\u001b[0m\u001b[0;34m.\u001b[0m\u001b[0mappend\u001b[0m\u001b[0;34m(\u001b[0m\u001b[0mTX_y_wednesday\u001b[0m\u001b[0;34m,\u001b[0m \u001b[0mignore_index\u001b[0m\u001b[0;34m=\u001b[0m\u001b[0;32mFalse\u001b[0m\u001b[0;34m)\u001b[0m\u001b[0;34m\u001b[0m\u001b[0;34m\u001b[0m\u001b[0m\n\u001b[1;32m     55\u001b[0m \u001b[0mTX_weekly_slopes\u001b[0m\u001b[0;34m=\u001b[0m\u001b[0mTX_weekly_slopes\u001b[0m\u001b[0;34m.\u001b[0m\u001b[0msort_index\u001b[0m\u001b[0;34m(\u001b[0m\u001b[0;34m)\u001b[0m\u001b[0;34m\u001b[0m\u001b[0;34m\u001b[0m\u001b[0m\n\u001b[0;32m---> 56\u001b[0;31m \u001b[0mUS_weekly_slopesx\u001b[0m\u001b[0;34m=\u001b[0m\u001b[0mUS_daily_sum_df\u001b[0m\u001b[0;34m.\u001b[0m\u001b[0minsert\u001b[0m\u001b[0;34m(\u001b[0m\u001b[0mloc\u001b[0m\u001b[0;34m=\u001b[0m\u001b[0;36m4\u001b[0m\u001b[0;34m,\u001b[0m\u001b[0mcolumn\u001b[0m\u001b[0;34m=\u001b[0m\u001b[0;34m'Slope'\u001b[0m\u001b[0;34m,\u001b[0m\u001b[0mvalue\u001b[0m\u001b[0;34m=\u001b[0m\u001b[0mTX_weekly_slopes\u001b[0m\u001b[0;34m,\u001b[0m \u001b[0mallow_duplicates\u001b[0m\u001b[0;34m=\u001b[0m\u001b[0;32mFalse\u001b[0m\u001b[0;34m)\u001b[0m\u001b[0;34m\u001b[0m\u001b[0;34m\u001b[0m\u001b[0m\n\u001b[0m",
      "\u001b[0;32m~/opt/anaconda3/lib/python3.7/site-packages/pandas/core/frame.py\u001b[0m in \u001b[0;36minsert\u001b[0;34m(self, loc, column, value, allow_duplicates)\u001b[0m\n\u001b[1;32m   3494\u001b[0m         \u001b[0mself\u001b[0m\u001b[0;34m.\u001b[0m\u001b[0m_ensure_valid_index\u001b[0m\u001b[0;34m(\u001b[0m\u001b[0mvalue\u001b[0m\u001b[0;34m)\u001b[0m\u001b[0;34m\u001b[0m\u001b[0;34m\u001b[0m\u001b[0m\n\u001b[1;32m   3495\u001b[0m         \u001b[0mvalue\u001b[0m \u001b[0;34m=\u001b[0m \u001b[0mself\u001b[0m\u001b[0;34m.\u001b[0m\u001b[0m_sanitize_column\u001b[0m\u001b[0;34m(\u001b[0m\u001b[0mcolumn\u001b[0m\u001b[0;34m,\u001b[0m \u001b[0mvalue\u001b[0m\u001b[0;34m,\u001b[0m \u001b[0mbroadcast\u001b[0m\u001b[0;34m=\u001b[0m\u001b[0;32mFalse\u001b[0m\u001b[0;34m)\u001b[0m\u001b[0;34m\u001b[0m\u001b[0;34m\u001b[0m\u001b[0m\n\u001b[0;32m-> 3496\u001b[0;31m         \u001b[0mself\u001b[0m\u001b[0;34m.\u001b[0m\u001b[0m_data\u001b[0m\u001b[0;34m.\u001b[0m\u001b[0minsert\u001b[0m\u001b[0;34m(\u001b[0m\u001b[0mloc\u001b[0m\u001b[0;34m,\u001b[0m \u001b[0mcolumn\u001b[0m\u001b[0;34m,\u001b[0m \u001b[0mvalue\u001b[0m\u001b[0;34m,\u001b[0m \u001b[0mallow_duplicates\u001b[0m\u001b[0;34m=\u001b[0m\u001b[0mallow_duplicates\u001b[0m\u001b[0;34m)\u001b[0m\u001b[0;34m\u001b[0m\u001b[0;34m\u001b[0m\u001b[0m\n\u001b[0m\u001b[1;32m   3497\u001b[0m \u001b[0;34m\u001b[0m\u001b[0m\n\u001b[1;32m   3498\u001b[0m     \u001b[0;32mdef\u001b[0m \u001b[0massign\u001b[0m\u001b[0;34m(\u001b[0m\u001b[0mself\u001b[0m\u001b[0;34m,\u001b[0m \u001b[0;34m**\u001b[0m\u001b[0mkwargs\u001b[0m\u001b[0;34m)\u001b[0m \u001b[0;34m->\u001b[0m \u001b[0;34m\"DataFrame\"\u001b[0m\u001b[0;34m:\u001b[0m\u001b[0;34m\u001b[0m\u001b[0;34m\u001b[0m\u001b[0m\n",
      "\u001b[0;32m~/opt/anaconda3/lib/python3.7/site-packages/pandas/core/internals/managers.py\u001b[0m in \u001b[0;36minsert\u001b[0;34m(self, loc, item, value, allow_duplicates)\u001b[0m\n\u001b[1;32m   1171\u001b[0m         \u001b[0;32mif\u001b[0m \u001b[0;32mnot\u001b[0m \u001b[0mallow_duplicates\u001b[0m \u001b[0;32mand\u001b[0m \u001b[0mitem\u001b[0m \u001b[0;32min\u001b[0m \u001b[0mself\u001b[0m\u001b[0;34m.\u001b[0m\u001b[0mitems\u001b[0m\u001b[0;34m:\u001b[0m\u001b[0;34m\u001b[0m\u001b[0;34m\u001b[0m\u001b[0m\n\u001b[1;32m   1172\u001b[0m             \u001b[0;31m# Should this be a different kind of error??\u001b[0m\u001b[0;34m\u001b[0m\u001b[0;34m\u001b[0m\u001b[0;34m\u001b[0m\u001b[0m\n\u001b[0;32m-> 1173\u001b[0;31m             \u001b[0;32mraise\u001b[0m \u001b[0mValueError\u001b[0m\u001b[0;34m(\u001b[0m\u001b[0;34mf\"cannot insert {item}, already exists\"\u001b[0m\u001b[0;34m)\u001b[0m\u001b[0;34m\u001b[0m\u001b[0;34m\u001b[0m\u001b[0m\n\u001b[0m\u001b[1;32m   1174\u001b[0m \u001b[0;34m\u001b[0m\u001b[0m\n\u001b[1;32m   1175\u001b[0m         \u001b[0;32mif\u001b[0m \u001b[0;32mnot\u001b[0m \u001b[0misinstance\u001b[0m\u001b[0;34m(\u001b[0m\u001b[0mloc\u001b[0m\u001b[0;34m,\u001b[0m \u001b[0mint\u001b[0m\u001b[0;34m)\u001b[0m\u001b[0;34m:\u001b[0m\u001b[0;34m\u001b[0m\u001b[0;34m\u001b[0m\u001b[0m\n",
      "\u001b[0;31mValueError\u001b[0m: cannot insert Slope, already exists"
     ]
    }
   ],
   "source": [
    "# DEVELOP 7-DAY MOVING SLOPES\n",
    "# BREAK THE DATA INTO INDIVIDUAL DAILY DATAFRAMES FOR ANALYSIS\n",
    "# US\n",
    "US_x_sunday = US_daily_sum_df.loc[US_daily_sum_df['Day'] == 'Sunday']\n",
    "US_x_monday = US_daily_sum_df.loc[US_daily_sum_df['Day'] == 'Monday']\n",
    "US_x_tuesday = US_daily_sum_df.loc[US_daily_sum_df['Day'] == 'Tuesday']\n",
    "US_x_wednesday = US_daily_sum_df.loc[US_daily_sum_df['Day'] == 'Wednesday']\n",
    "US_x_thursday = US_daily_sum_df.loc[US_daily_sum_df['Day'] == 'Thursday']\n",
    "US_x_friday = US_daily_sum_df.loc[US_daily_sum_df['Day'] == 'Friday']\n",
    "US_x_saturday = US_daily_sum_df.loc[US_daily_sum_df['Day'] == 'Saturday']\n",
    "# TX\n",
    "TX_x_sunday = TX_daily_sum_df.loc[TX_daily_sum_df['Day'] == 'Sunday']\n",
    "TX_x_monday = TX_daily_sum_df.loc[TX_daily_sum_df['Day'] == 'Monday']\n",
    "TX_x_tuesday = TX_daily_sum_df.loc[TX_daily_sum_df['Day'] == 'Tuesday']\n",
    "TX_x_wednesday = TX_daily_sum_df.loc[TX_daily_sum_df['Day'] == 'Wednesday']\n",
    "TX_x_thursday = TX_daily_sum_df.loc[TX_daily_sum_df['Day'] == 'Thursday']\n",
    "TX_x_friday = TX_daily_sum_df.loc[TX_daily_sum_df['Day'] == 'Friday']\n",
    "TX_x_saturday = TX_daily_sum_df.loc[TX_daily_sum_df['Day'] == 'Saturday']\n",
    "# DEVELOP SLOPES\n",
    "# US\n",
    "US_y_sunday = US_x_sunday['Confirmed'].diff().fillna(US_x_sunday['Confirmed'])/7\n",
    "US_y_monday = US_x_monday['Confirmed'].diff().fillna(US_x_monday['Confirmed'])/7\n",
    "US_y_tuesday = US_x_tuesday['Confirmed'].diff().fillna(US_x_tuesday['Confirmed'])/7\n",
    "US_y_wednesday = US_x_wednesday['Confirmed'].diff().fillna(US_x_wednesday['Confirmed'])/7\n",
    "US_y_thursday = US_x_thursday['Confirmed'].diff().fillna(US_x_thursday['Confirmed'])/7\n",
    "US_y_friday = US_x_friday['Confirmed'].diff().fillna(US_x_friday['Confirmed'])/7\n",
    "US_y_saturday = US_x_saturday['Confirmed'].diff().fillna(US_x_saturday['Confirmed'])/7\n",
    "# TX\n",
    "TX_y_sunday = TX_x_sunday['Confirmed'].diff().fillna(TX_x_sunday['Confirmed'])/7\n",
    "TX_y_monday = TX_x_monday['Confirmed'].diff().fillna(TX_x_monday['Confirmed'])/7\n",
    "TX_y_tuesday = TX_x_tuesday['Confirmed'].diff().fillna(TX_x_tuesday['Confirmed'])/7\n",
    "TX_y_wednesday = TX_x_wednesday['Confirmed'].diff().fillna(TX_x_wednesday['Confirmed'])/7\n",
    "TX_y_thursday = TX_x_thursday['Confirmed'].diff().fillna(TX_x_thursday['Confirmed'])/7\n",
    "TX_y_friday = TX_x_friday['Confirmed'].diff().fillna(TX_x_friday['Confirmed'])/7\n",
    "TX_y_saturday = TX_x_saturday['Confirmed'].diff().fillna(TX_x_saturday['Confirmed'])/7\n",
    "# RECOMBINE THE DATA AS A SINGLE DATAFRAME\n",
    "# US\n",
    "US_weekly_slopes=US_y_thursday\n",
    "US_weekly_slopes=US_weekly_slopes.append(US_y_friday, ignore_index=False)\n",
    "US_weekly_slopes=US_weekly_slopes.append(US_y_saturday, ignore_index=False)\n",
    "US_weekly_slopes=US_weekly_slopes.append(US_y_sunday, ignore_index=False)\n",
    "US_weekly_slopes=US_weekly_slopes.append(US_y_monday, ignore_index=False)\n",
    "US_weekly_slopes=US_weekly_slopes.append(US_y_tuesday, ignore_index=False)\n",
    "US_weekly_slopes=US_weekly_slopes.append(US_y_wednesday, ignore_index=False)\n",
    "US_weekly_slopes=US_weekly_slopes.sort_index()\n",
    "US_weekly_slopesx=US_daily_sum_df.insert(loc=4,column='Slope',value=US_weekly_slopes, allow_duplicates=False)\n",
    "# TX\n",
    "TX_weekly_slopes=TX_y_thursday\n",
    "TX_weekly_slopes=TX_weekly_slopes.append(TX_y_friday, ignore_index=False)\n",
    "TX_weekly_slopes=TX_weekly_slopes.append(TX_y_saturday, ignore_index=False)\n",
    "TX_weekly_slopes=TX_weekly_slopes.append(TX_y_sunday, ignore_index=False)\n",
    "TX_weekly_slopes=TX_weekly_slopes.append(TX_y_monday, ignore_index=False)\n",
    "TX_weekly_slopes=TX_weekly_slopes.append(TX_y_tuesday, ignore_index=False)\n",
    "TX_weekly_slopes=TX_weekly_slopes.append(TX_y_wednesday, ignore_index=False)\n",
    "TX_weekly_slopes=TX_weekly_slopes.sort_index()\n",
    "US_weekly_slopesx=US_daily_sum_df.insert(loc=4,column='Slope',value=TX_weekly_slopes, allow_duplicates=False)"
   ]
  },
  {
   "cell_type": "code",
   "execution_count": 11,
   "metadata": {},
   "outputs": [
    {
     "name": "stdout",
     "output_type": "stream",
     "text": [
      "AxesSubplot(0.125,0.125;0.775x0.775)\n"
     ]
    },
    {
     "data": {
      "image/png": "[encoded data removed]",
      "text/plain": [
       "<Figure size 1296x288 with 1 Axes>"
      ]
     },
     "metadata": {
      "needs_background": "light"
     },
     "output_type": "display_data"
    }
   ],
   "source": [
    "# PLOT DIFFERENTIAL US DATA FOR REVIEW\n",
    "dat1=confirmed_US_daily_sum\n",
    "n=7\n",
    "ax=dat1.plot(kind='bar',y='Confirmed',figsize=(18,4))\n",
    "plt.suptitle('US Daily Confirmed Covid-19 Cases',fontsize=22)\n",
    "plt.xlabel('Date',fontsize=16)\n",
    "plt.ylabel('Daily Confirmed Cases',fontsize=16)\n",
    "ticks=ax.xaxis.get_ticklocs()\n",
    "ticklabels=[l.get_text() for l in ax.xaxis.get_ticklabels()]\n",
    "ax.xaxis.set_ticks(ticks[::n])\n",
    "ax.xaxis.set_ticklabels(ticklabels[::n])\n",
    "print(ax)"
   ]
  },
  {
   "cell_type": "code",
   "execution_count": 18,
   "metadata": {},
   "outputs": [
    {
     "data": {
      "text/html": [
       "<div>\n",
       "<style scoped>\n",
       "    .dataframe tbody tr th:only-of-type {\n",
       "        vertical-align: middle;\n",
       "    }\n",
       "\n",
       "    .dataframe tbody tr th {\n",
       "        vertical-align: top;\n",
       "    }\n",
       "\n",
       "    .dataframe thead th {\n",
       "        text-align: right;\n",
       "    }\n",
       "</style>\n",
       "<table border=\"1\" class=\"dataframe\">\n",
       "  <thead>\n",
       "    <tr style=\"text-align: right;\">\n",
       "      <th></th>\n",
       "      <th>Date</th>\n",
       "      <th>Month</th>\n",
       "      <th>Day</th>\n",
       "      <th>Confirmed</th>\n",
       "    </tr>\n",
       "  </thead>\n",
       "  <tbody>\n",
       "    <tr>\n",
       "      <th>0</th>\n",
       "      <td>2020-01-22</td>\n",
       "      <td>January</td>\n",
       "      <td>Wednesday</td>\n",
       "      <td>0.0</td>\n",
       "    </tr>\n",
       "    <tr>\n",
       "      <th>1</th>\n",
       "      <td>2020-01-23</td>\n",
       "      <td>January</td>\n",
       "      <td>Thursday</td>\n",
       "      <td>0.0</td>\n",
       "    </tr>\n",
       "    <tr>\n",
       "      <th>2</th>\n",
       "      <td>2020-01-24</td>\n",
       "      <td>January</td>\n",
       "      <td>Friday</td>\n",
       "      <td>0.0</td>\n",
       "    </tr>\n",
       "    <tr>\n",
       "      <th>3</th>\n",
       "      <td>2020-01-25</td>\n",
       "      <td>January</td>\n",
       "      <td>Saturday</td>\n",
       "      <td>0.0</td>\n",
       "    </tr>\n",
       "    <tr>\n",
       "      <th>4</th>\n",
       "      <td>2020-01-26</td>\n",
       "      <td>January</td>\n",
       "      <td>Sunday</td>\n",
       "      <td>0.0</td>\n",
       "    </tr>\n",
       "    <tr>\n",
       "      <th>...</th>\n",
       "      <td>...</td>\n",
       "      <td>...</td>\n",
       "      <td>...</td>\n",
       "      <td>...</td>\n",
       "    </tr>\n",
       "    <tr>\n",
       "      <th>253</th>\n",
       "      <td>2020-10-01</td>\n",
       "      <td>October</td>\n",
       "      <td>Thursday</td>\n",
       "      <td>3717.0</td>\n",
       "    </tr>\n",
       "    <tr>\n",
       "      <th>254</th>\n",
       "      <td>2020-10-02</td>\n",
       "      <td>October</td>\n",
       "      <td>Friday</td>\n",
       "      <td>5570.0</td>\n",
       "    </tr>\n",
       "    <tr>\n",
       "      <th>255</th>\n",
       "      <td>2020-10-03</td>\n",
       "      <td>October</td>\n",
       "      <td>Saturday</td>\n",
       "      <td>5119.0</td>\n",
       "    </tr>\n",
       "    <tr>\n",
       "      <th>256</th>\n",
       "      <td>2020-10-04</td>\n",
       "      <td>October</td>\n",
       "      <td>Sunday</td>\n",
       "      <td>2769.0</td>\n",
       "    </tr>\n",
       "    <tr>\n",
       "      <th>257</th>\n",
       "      <td>2020-10-05</td>\n",
       "      <td>October</td>\n",
       "      <td>Monday</td>\n",
       "      <td>4125.0</td>\n",
       "    </tr>\n",
       "  </tbody>\n",
       "</table>\n",
       "<p>258 rows × 4 columns</p>\n",
       "</div>"
      ],
      "text/plain": [
       "          Date    Month        Day  Confirmed\n",
       "0   2020-01-22  January  Wednesday        0.0\n",
       "1   2020-01-23  January   Thursday        0.0\n",
       "2   2020-01-24  January     Friday        0.0\n",
       "3   2020-01-25  January   Saturday        0.0\n",
       "4   2020-01-26  January     Sunday        0.0\n",
       "..         ...      ...        ...        ...\n",
       "253 2020-10-01  October   Thursday     3717.0\n",
       "254 2020-10-02  October     Friday     5570.0\n",
       "255 2020-10-03  October   Saturday     5119.0\n",
       "256 2020-10-04  October     Sunday     2769.0\n",
       "257 2020-10-05  October     Monday     4125.0\n",
       "\n",
       "[258 rows x 4 columns]"
      ]
     },
     "execution_count": 18,
     "metadata": {},
     "output_type": "execute_result"
    }
   ],
   "source": [
    "TX_daily_sum_df\n"
   ]
  },
  {
   "cell_type": "code",
   "execution_count": null,
   "metadata": {},
   "outputs": [],
   "source": [
    "# PLOT US WEEKDAY SLOPE DATA FOR REVIEW\n",
    "dat1=US_weekly_slopes\n",
    "n=7\n",
    "ax=dat1.plot(kind='bar',y='Confirmed',figsize=(18,4))\n",
    "plt.suptitle('US Weekly Slopes',fontsize=22)\n",
    "plt.xlabel('Date',fontsize=16)\n",
    "plt.ylabel('Daily Confirmed Cases',fontsize=16)\n",
    "ticks=ax.xaxis.get_ticklocs()\n",
    "ticklabels=[l.get_text() for l in ax.xaxis.get_ticklabels()]\n",
    "ax.xaxis.set_ticks(ticks[::n])\n",
    "ax.xaxis.set_ticklabels(ticklabels[::n])\n",
    "print(ax)"
   ]
  },
  {
   "cell_type": "code",
   "execution_count": null,
   "metadata": {},
   "outputs": [],
   "source": [
    "# PLOT US WEEKDAY SLOPE DATA FOR REVIEW\n",
    "dat1=TX_weekly_slopes\n",
    "n=7\n",
    "ax=dat1.plot(kind='bar',y='Confirmed',figsize=(18,4))\n",
    "plt.suptitle('TX Weekly Slopes',fontsize=22)\n",
    "plt.xlabel('Date',fontsize=16)\n",
    "plt.ylabel('Daily Confirmed Cases',fontsize=16)\n",
    "ticks=ax.xaxis.get_ticklocs()\n",
    "ticklabels=[l.get_text() for l in ax.xaxis.get_ticklabels()]\n",
    "ax.xaxis.set_ticks(ticks[::n])\n",
    "ax.xaxis.set_ticklabels(ticklabels[::n])\n",
    "print(ax)"
   ]
  },
  {
   "cell_type": "code",
   "execution_count": null,
   "metadata": {},
   "outputs": [],
   "source": [
    "US_df3 = pd.DataFrame(US_weekly_slopes)\n",
    "US_df3.plot.bar(figsize=(18,10),grid=True,legend=False)"
   ]
  },
  {
   "cell_type": "code",
   "execution_count": null,
   "metadata": {},
   "outputs": [],
   "source": [
    "TX_df4 = pd.DataFrame(TX_weekly_slopes)\n",
    "TX_df4.plot.bar(figsize=(18,10),grid=True,legend=False)"
   ]
  },
  {
   "cell_type": "code",
   "execution_count": null,
   "metadata": {},
   "outputs": [],
   "source": []
  },
  {
   "cell_type": "code",
   "execution_count": null,
   "metadata": {},
   "outputs": [],
   "source": []
  },
  {
   "cell_type": "code",
   "execution_count": null,
   "metadata": {},
   "outputs": [],
   "source": []
  },
  {
   "cell_type": "code",
   "execution_count": null,
   "metadata": {},
   "outputs": [],
   "source": []
  },
  {
   "cell_type": "code",
   "execution_count": null,
   "metadata": {},
   "outputs": [],
   "source": [
    "### Methodology"
   ]
  },
  {
   "cell_type": "code",
   "execution_count": null,
   "metadata": {},
   "outputs": [],
   "source": []
  },
  {
   "cell_type": "code",
   "execution_count": null,
   "metadata": {},
   "outputs": [],
   "source": []
  },
  {
   "cell_type": "code",
   "execution_count": null,
   "metadata": {},
   "outputs": [],
   "source": []
  },
  {
   "cell_type": "code",
   "execution_count": null,
   "metadata": {},
   "outputs": [],
   "source": []
  },
  {
   "cell_type": "code",
   "execution_count": null,
   "metadata": {},
   "outputs": [],
   "source": []
  },
  {
   "cell_type": "code",
   "execution_count": null,
   "metadata": {},
   "outputs": [],
   "source": [
    "### Results"
   ]
  },
  {
   "cell_type": "code",
   "execution_count": null,
   "metadata": {},
   "outputs": [],
   "source": []
  },
  {
   "cell_type": "code",
   "execution_count": null,
   "metadata": {},
   "outputs": [],
   "source": [
    "### Discussion"
   ]
  },
  {
   "cell_type": "code",
   "execution_count": null,
   "metadata": {},
   "outputs": [],
   "source": []
  },
  {
   "cell_type": "code",
   "execution_count": null,
   "metadata": {},
   "outputs": [],
   "source": [
    "### Conclusion"
   ]
  },
  {
   "cell_type": "code",
   "execution_count": null,
   "metadata": {},
   "outputs": [],
   "source": []
  },
  {
   "cell_type": "code",
   "execution_count": null,
   "metadata": {},
   "outputs": [],
   "source": [
    "### Link to Presentation"
   ]
  },
  {
   "cell_type": "code",
   "execution_count": null,
   "metadata": {},
   "outputs": [],
   "source": []
  },
  {
   "cell_type": "markdown",
   "metadata": {},
   "source": [
    "### Link to Full Report"
   ]
  },
  {
   "cell_type": "markdown",
   "metadata": {},
   "source": [
    "To be completed as part of Week 2 assgnment."
   ]
  },
  {
   "cell_type": "markdown",
   "metadata": {},
   "source": [
    "### Credit:"
   ]
  },
  {
   "cell_type": "markdown",
   "metadata": {},
   "source": [
    "The above described analyses, along with any errors or omissions, shall be deemed to be the responsibility of the writer, Mark Brantana,who offers his thanks and credits for the terrific dataset and great humanitarian service offered by Johns Hopkins University, as follows:\n",
    "\n",
    "The data set is licensed under the Creative Commons Attribution 4.0 International (CC BY 4.0) by the Johns Hopkins University on behalf of its Center for Systems Science in Engineering. Copyright Johns Hopkins University 2020.\n",
    "\n",
    "Attribute the data as the \"COVID-19 Data Repository by the Center for Systems Science and Engineering (CSSE) at Johns Hopkins University\" or \"JHU CSSE COVID-19 Data\" for short, and the url: https://github.com/CSSEGISandData/COVID-19.\n",
    "\n",
    "For publications that use the data, please cite the following publication: \"Dong E, Du H, Gardner L. An interactive web-based dashboard to track COVID-19 in real time. Lancet Inf Dis. 20(5):533-534. doi: 10.1016/S1473-3099(20)30120-1\""
   ]
  },
  {
   "cell_type": "markdown",
   "metadata": {},
   "source": [
    "### Appendix 1 Source List as of Writing"
   ]
  },
  {
   "cell_type": "markdown",
   "metadata": {},
   "source": [
    "### DATA SOURCES:\n",
    "This list includes a complete list of all sources ever used in the data set, since January 21, 2010. Some sources listed here (e.g., WHO, ECDC, US CDC, BNO News) are not currently relied upon as a source of data.\n",
    "\n",
    "- Aggregated data sources:\n",
    "  - World Health Organization (WHO): https://www.who.int/\n",
    "  - European Centre for Disease Prevention and Control (ECDC): https://www.ecdc.europa.eu/en/geographical-distribution-2019-ncov-cases \n",
    "  - DXY.cn. Pneumonia. 2020. http://3g.dxy.cn/newh5/view/pneumonia\n",
    "  - US CDC: https://www.cdc.gov/coronavirus/2019-ncov/index.html\n",
    "  - BNO News: https://bnonews.com/index.php/2020/02/the-latest-coronavirus-cases/\n",
    "  - WorldoMeters: https://www.worldometers.info/coronavirus/  \n",
    "  - 1Point3Arces: https://coronavirus.1point3acres.com/en  \n",
    "  - COVID Tracking Project: https://covidtracking.com/data. (US Testing and Hospitalization Data. We use the maximum reported value from \"Currently\" and \"Cumulative\" Hospitalized for our hospitalization number reported for each state.)\n",
    "  - Los Angeles Times: https://www.latimes.com/projects/california-coronavirus-cases-tracking-outbreak/\n",
    "  - The Mercury News: https://www.mercurynews.com/tag/coronavirus/\n",
    "\n",
    "- US data sources at the state (Admin1) or county/city (Admin2) level:  \n",
    "  - Washington State Department of Health: https://www.doh.wa.gov/emergencies/coronavirus\n",
    "  - Maryland Department of Health: https://coronavirus.maryland.gov/\n",
    "  - New York State Department of Health: https://health.data.ny.gov/Health/New-York-State-Statewide-COVID-19-Testing/xdss-u53e/data\n",
    "  - New York City Health Department: https://www1.nyc.gov/site/doh/covid/covid-19-data.page\n",
    "  - NYC Department of Health and Mental Hygiene: https://www1.nyc.gov/site/doh/covid/covid-19-data.page and https://github.com/nychealth/coronavirus-data\n",
    "  - Florida Department of Health Dashboard: https://services1.arcgis.com/CY1LXxl9zlJeBuRZ/arcgis/rest/services/Florida_COVID19_Cases/FeatureServer/0\n",
    "    and https://fdoh.maps.arcgis.com/apps/opsdashboard/index.html#/8d0de33f260d444c852a615dc7837c86\n",
    "  - Colorado: https://covid19.colorado.gov/covid-19-data\n",
    "  - Virginia: https://www.vdh.virginia.gov/coronavirus/\n",
    "  - Northern Mariana Islands CNMI Department of Public Health: https://cnmichcc.maps.arcgis.com/apps/opsdashboard/index.html#/4061b674fc964efe84f7774b7979d2b5\n",
    "  - Missouri Department of Health: https://www.arcgis.com/apps/MapSeries/index.html?appid=8e01a5d8d8bd4b4f85add006f9e14a9d\n",
    "  - Missouri: Nodaway County: https://www.nodawaypublichealth.org/\n",
    "  - St. Louis City Department of Health: https://www.stlouis-mo.gov/covid-19/data/#totalsByDate\n",
    "  - St. Louis County: https://stlcorona.com/resources/covid-19-statistics1/\n",
    "  - Massachusetts: https://www.mass.gov/info-details/covid-19-response-reporting\n",
    "  - Michigan: https://www.michigan.gov/coronavirus/0,9753,7-406-98163_98173---,00.html \n",
    "  - Illinois Department of Public Health: https://dph.illinois.gov/covid19\n",
    "  - Indiana State Department of Health: https://hub.mph.in.gov/dataset?q=COVID\n",
    "  - Connecticut Department of Public Health: https://data.ct.gov/stories/s/COVID-19-data/wa3g-tfvc/\n",
    "  - Ohio Department of Health: https://coronavirus.ohio.gov/wps/portal/gov/covid-19/home\n",
    "  - Oregon Office of Emergency Management: https://experience.arcgis.com/experience/fff9f83827c5461583cd014fdf4587de\n",
    "  - Tennessee Department of Health: https://www.tn.gov/health/cedep/ncov.html\n",
    "  - Rhode Island Department of Health: https://ri-department-of-health-covid-19-data-rihealth.hub.arcgis.com/\n",
    "  - Wisconsin Department of Health Services: https://www.dhs.wisconsin.gov/covid-19/data.htm\n",
    "  - North Carolina City of Greenville GIS: https://www.arcgis.com/apps/opsdashboard/index.html#/7aeac695cafa4065ba1505b1cfa72747\n",
    "  - Iowa State Government: https://coronavirus.iowa.gov/\n",
    "  - Minnesota Department of Health: https://www.health.state.mn.us/diseases/coronavirus/situation.html\n",
    "  - Alabama Public Health: https://www.alabamapublichealth.gov/covid19/\n",
    "  - Mississippi State Department of Health: https://msdh.ms.gov/msdhsite/_static/14,0,420.html\n",
    "  - Nebraska Department of Health and Human Services: https://experience.arcgis.com/experience/ece0db09da4d4ca68252c3967aa1e9dd\n",
    "  - South Carolina Department of Health and Environmental Control: https://scdhec.gov/infectious-diseases/viruses/coronavirus-disease-2019-covid-19/sc-testing-data-projections-covid-19\n",
    "  - Nevada Department of Health and Human Services: https://nvhealthresponse.nv.gov/\n",
    "  - New Jersey Department of Health: https://covid19.nj.gov/\n",
    "  - Delaware Emergency Management Agency: https://coronavirus.delaware.gov/\n",
    "  - Utah Department of Health: https://coronavirus-dashboard.utah.gov/#overview\n",
    "  - Arizona Emergency Support Function (ESF)/Recovery Support Function (RSF) Operations Dashboard: https://www.arcgis.com/apps/MapSeries/index.html?appid=62e6bfa682a34e6aae9d9255ac865467\n",
    "  - Departamento de Salud, Puerto Rico: https://bioseguridad.maps.arcgis.com/apps/opsdashboard/index.html#/d7308c1abb4747e584329adf1215125e\n",
    "  - Arkansas Department of Health: https://experience.arcgis.com/experience/c2ef4a4fcbe5458fbf2e48a21e4fece9\n",
    "  - Maine Department of Health and Human Services: https://www.maine.gov/dhhs/mecdc/infectious-disease/epi/airborne/coronavirus/data.shtml\n",
    "  - Pennsylvania Department of Health: https://www.health.pa.gov/topics/disease/coronavirus/Pages/Cases.aspx\n",
    "  - City of Philadelphia: https://www.phila.gov/programs/coronavirus-disease-2019-covid-19/\n",
    "  - Lancaster County: https://covid-19-lancastercountypa.hub.arcgis.com/\n",
    "  - Chester County: https://chesco.maps.arcgis.com/apps/opsdashboard/index.html#/975082d579454c3ca7877db0a44e61ca\n",
    "  - Louisiana Department of Health: http://ldh.la.gov/coronavirus/\n",
    "  - Government of The District of Columbia: https://coronavirus.dc.gov/page/coronavirus-data \n",
    "  - North Dakota Department of Health: https://www.health.nd.gov/diseases-conditions/coronavirus/north-dakota-coronavirus-cases\n",
    "  - Oklahoma State Department of Health: https://looker-dashboards.ok.gov/embed/dashboards/44\n",
    "  - Guam Department of Public Health and Social Services: http://dphss.guam.gov/covid-19/ \n",
    "  - New Mexico Department of Health: https://cvprovider.nmhealth.org/public-dashboard.html\n",
    "  - Kentucky Department of Public Health: https://kygeonet.maps.arcgis.com/apps/opsdashboard/index.html#/543ac64bc40445918cf8bc34dc40e334\n",
    "  - Georgia Department of Public Health: https://dph.georgia.gov/covid-19-daily-status-report\n",
    "  - State of Hawai'i Department of Health: https://health.hawaii.gov/coronavirusdisease2019/what-you-should-know/current-situation-in-hawaii/\n",
    "  - Reno County Health Department: http://reno.maps.arcgis.com/apps/opsdashboard/index.html#/dfaef27aede1414b89abf393b2ccb994\n",
    "  - Texas Department of State Health Services: https://dshs.texas.gov/coronavirus/\n",
    "  - Texas: City of San Antonio: https://covid19.sanantonio.gov/Home\n",
    "  - Texas: Brazioria County: https://www.brazoriacountytx.gov/departments/health-department/brazoria-county-coronavirus-map\n",
    "  - Texas: Brazos County Health District: http://www.brazoshealth.org\n",
    "  - Texas: Cameron County Public Health: https://www.cameroncounty.us/publichealth/index.php/coronavirus/\n",
    "  - Texas: Collin County: https://www.collincountytx.gov/healthcare_services/Pages/news.aspx\n",
    "  - Texas: Dallas County: https://www.dallascounty.org/departments/dchhs/2019-novel-coronavirus.php\n",
    "  - Texas: Denton County: https://gis-covid19-dentoncounty.hub.arcgis.com/pages/covid-19cases\n",
    "  - Texas: Ector County:  http://www.co.ector.tx.us/page/ector.CoronavirusCOVID19\n",
    "  - Texas: City of El Paso: http://epstrong.org/results.php\n",
    "  - Texas: Fayette County: https://www.co.fayette.tx.us/\n",
    "  - Texas: Fort Bend County Health & Human Services: https://www.fbchealth.org/ncov/\n",
    "  - Texas: Galveston County Health District: https://www.gchd.org/about-us/news-and-events/coronavirus-disease-2019-covid-19/galveston-county-confirmed-covid-19-cases\n",
    "  - Texas: Harris County: https://publichealth.harriscountytx.gov/Resources/2019-Novel-Coronavirus\n",
    "  - Texas: Hays County: https://hayscountytx.com/covid-19-information-for-hays-county-residents/\n",
    "  - Texas: Hidalgo County Health and Human Services: https://www.hidalgocounty.us/2630/Coronavirus-Updates\n",
    "  - Texas: Midland County: https://www.midlandtexas.gov/955/Coronavirus-COVID-19\n",
    "  - Texas: Montgomery County: https://coronavirus-response-moco.hub.arcgis.com/\n",
    "  - Texas: City of Corpus Christi: https://www.cctexas.com/coronavirus\n",
    "  - Texas: Amarillo Public Health Department: https://covid-data-amarillo.hub.arcgis.com/\n",
    "  - Texas: Tarrant County Public Health: https://www.tarrantcounty.com/en/public-health/disease-control---prevention/coronaviruas.html\n",
    "  - Texas: City of Mount Pleasant: https://www.mpcity.net/632/COVID-19-UPDATES\n",
    "  - Texas: City of San Angelo: https://www.cosatx.us/departments-services/health-services/coronavirus-covid-19#ad-image-0\n",
    "  - Texas: San Angelo Standard-Times: https://www.gosanangelo.com/\n",
    "  - Texas: Travis County: https://www.traviscountytx.gov/news/2020/1945-novel-coronavirus-covid-19-information\n",
    "  - Texas: City of Laredo: https://www.cityoflaredo.com/coronavirus/\n",
    "  - Texas: Williamson County & Cities Health District: http://www.wcchd.org/COVID-19/dashboard.php\n",
    "  - California Department of Publich Health: https://www.cdph.ca.gov/covid19\n",
    "  - California: Mariposa County: https://www.mariposacounty.org/1592/COVID-19-Information\n",
    "  - California: Alameda County Public Health Department: https://covid-19.acgov.org/\n",
    "  - California: Fresno County Public Health Department: https://www.co.fresno.ca.us/departments/public-health/covid-19\n",
    "  - California: Humboldt County: https://humboldtgov.org/\n",
    "  - California: Madera County: https://www.maderacounty.com/government/public-health/corona-virus-covid-19/covid-revised\n",
    "  - California: Marin County Health & Human Services: https://coronavirus.marinhhs.org/\n",
    "  - California: Orange County Health Care Agency: https://occovid19.ochealthinfo.com/coronavirus-in-oc\n",
    "  - California: Placer County: https://www.placer.ca.gov/coronavirus\n",
    "  - California: Riverside County: https://www.rivcoph.org/coronavirus\n",
    "  - California: Sacramento County: https://www.saccounty.net/COVID-19/\n",
    "  - California: San Francisco Department of Public Helath: https://www.sfdph.org/dph/alerts/coronavirus.asp\n",
    "  - California: San Benito County Health & Human Services: https://hhsa.cosb.us/publichealth/communicable-disease/coronavirus/\n",
    "  - California: San Joaquin County Public Health Services: http://www.sjcphs.org/coronavirus.aspx\n",
    "  - California: San Mateo County: https://www.smchealth.org/coronavirus\n",
    "  - California: Santa Cruz County Health Services Agency: http://www.santacruzhealth.org/HSAHome/HSADivisions/PublicHealth/CommunicableDiseaseControl/CoronavirusHome.aspx\n",
    "  - California: Shasta County: https://www.co.shasta.ca.us/covid-19/overview\n",
    "  - California: Solano County: https://www.co.shasta.ca.us/covid-19/overview\n",
    "  - California: Sonoma County: https://socoemergency.org/emergency/novel-coronavirus/coronavirus-cases/\n",
    "  - California: Stanislaus County Health Services Agency: http://schsa.org/publichealth/pages/corona-virus/\n",
    "  - California: Ventura County: https://www.venturacountyrecovers.org/\n",
    "  - California: Yolo County: https://www.yolocounty.org/health-human-services/adults/communicable-disease-investigation-and-control/novel-coronavirus-2019/\n",
    "  - California: Los Angeles County: http://publichealth.lacounty.gov/media/coronavirus/\n",
    "  - California: San Diego County: https://www.sandiegocounty.gov/coronavirus.html\n",
    "  - California: Santa Clara County: https://www.sccgov.org/sites/covid19/\n",
    "  - California: Imperial County Public Health Department: http://www.icphd.org/health-information-and-resources/healthy-facts/covid-19/\n",
    "  - California: San Bernardino County: https://sbcovid19.com/\n",
    "  - Montana Department of Public Health and Human Services: https://dphhs.mt.gov/publichealth/cdepi/diseases/coronavirusmt\n",
    "  - South Dakota Department of Health: https://doh.sd.gov/news/coronavirus.aspx\n",
    "  - Wyoming Department of Health: https://health.wyo.gov/publichealth/infectious-disease-epidemiology-unit/disease/novel-coronavirus/\n",
    "  - New Hampshire Department of Health and Human Services: https://www.nh.gov/covid19/dashboard/summary.htm\n",
    "  - Idaho Government: https://coronavirus.idaho.gov/\n",
    "  - Virgin Islands Department of Health: https://www.covid19usvi.com/\n",
    "  - Vermont Department of Health: https://www.healthvermont.gov/response/coronavirus-covid-19/current-activity-vermont\n",
    "\n",
    "  \n",
    "- Non-US data sources at the country/region (Admin0) or state/province (Admin1) level:\n",
    "  - National Health Commission of the People’s Republic of China (NHC):\n",
    "    http://www.nhc.gov.cn/xcs/yqtb/list_gzbd.shtml\n",
    "  - China CDC (CCDC): http://weekly.chinacdc.cn/news/TrackingtheEpidemic.htm\n",
    "  - Hong Kong Department of Health: https://www.chp.gov.hk/en/features/102465.html\n",
    "  - Macau Government: https://www.ssm.gov.mo/portal/\n",
    "  - Taiwan CDC: https://sites.google.com/cdc.gov.tw/2019ncov/taiwan?authuser=0\n",
    "  - Government of Canada: https://www.canada.ca/en/public-health/services/diseases/coronavirus.html\n",
    "  - Australia Government Department of Health: https://www.health.gov.au/news/coronavirus-update-at-a-glance\n",
    "  - COVID Live (Australia): https://www.covidlive.com.au/\n",
    "  - Ministry of Health Singapore (MOH): https://www.moh.gov.sg/covid-19\n",
    "  - Italy Ministry of Health: http://www.salute.gov.it/nuovocoronavirus\n",
    "  - Dati COVID-19 Italia (Italy): https://github.com/pcm-dpc/COVID-19/tree/master/dati-regioni\n",
    "  - French Government: https://dashboard.covid19.data.gouv.fr/ and https://github.com/opencovid19-fr/data/blob/master/dist/chiffres-cles.json\n",
    "  - OpenCOVID19 France: https://github.com/opencovid19-fr\n",
    "  - Palestine (West Bank and Gaza): https://corona.ps/details\n",
    "  - Israel: https://govextra.gov.il/ministry-of-health/corona/corona-virus/\n",
    "  - Ministry of Health, Republic of Kosovo: https://kosova.health/ and https://covidks.s3.amazonaws.com/data.json\n",
    "  - Berliner Morgenpost (Germany): https://interaktiv.morgenpost.de/corona-virus-karte-infektionen-deutschland-weltweit/\n",
    "  - rtve (Spain): https://www.rtve.es/noticias/20200514/mapa-del-coronavirus-espana/2004681.shtml\n",
    "  - Ministry of Health, Republic of Serbia: https://covid19.rs/homepage-english/ \n",
    "  - Chile: https://www.minsal.cl/nuevo-coronavirus-2019-ncov/casos-confirmados-en-chile-covid-19/\n",
    "  - Chile: https://www.gob.cl/coronavirus/cifrasoficiales/\n",
    "  - Brazil Ministry of Health: https://covid.saude.gov.br/\n",
    "  - Brazil: https://github.com/wcota/covid19br. Data described in [DOI: 10.1590/SciELOPreprints.362](https://doi.org/10.1590/SciELOPreprints.362)\n",
    "  - Gobierono De Mexico:https://covid19.sinave.gob.mx/\n",
    "  - Japan COVID-19 Coronavirus Tracker: https://covid19japan.com/#all-prefectures\n",
    "  - Monitoreo del COVID-19 en Perú -  Policía Nacional del Perú (PNP) - Dirección de Inteligencia (DIRIN): https://www.arcgis.com/apps/opsdashboard/index.html#/f90a7a87af2548699d6e7bb72f5547c2 and Ministerio de Salud del Perú: https://covid19.minsa.gob.pe/sala_situacional.asp\n",
    "  - Colombia National Institute of Health: http://www.ins.gov.co/Noticias/Paginas/Coronavirus.aspx\n",
    "  - Russia: https://xn--80aesfpebagmfblc0a.xn--p1ai/information/\n",
    "  - Ukraine: https://covid19.rnbo.gov.ua/\n",
    "  - Public Health Agency of Sweden: https://experience.arcgis.com/experience/09f821667ce64bf7be6f9f87457ed9aa\n",
    "  - Government of India: https://www.mygov.in/covid-19\n",
    "  - Government of Pakistan: http://covid.gov.pk/stats/pakistan\n",
    "  - The UK Government: https://coronavirus.data.gov.uk/#category=nations&map=rate\n",
    "  - Scottish Government: https://www.gov.scot/publications/coronavirus-covid-19-trends-in-daily-data/\n",
    "  - Netherlands National Institute for Health and Environment: https://experience.arcgis.com/experience/ea064047519040469acb8da05c0f100d\n",
    "  - Iceland Directorate of Health and Department of Civil Protection and Emergency Management: https://www.covid.is/data\n",
    "  - Luxembourg Government Ministry of Health: https://msan.gouvernement.lu/en/graphiques-evolution.html\n"
   ]
  }
 ],
 "metadata": {
  "kernelspec": {
   "display_name": "Python 3",
   "language": "python",
   "name": "python3"
  },
  "language_info": {
   "codemirror_mode": {
    "name": "ipython",
    "version": 3
   },
   "file_extension": ".py",
   "mimetype": "text/x-python",
   "name": "python",
   "nbconvert_exporter": "python",
   "pygments_lexer": "ipython3",
   "version": "3.7.6"
  }
 },
 "nbformat": 4,
 "nbformat_minor": 4
}
