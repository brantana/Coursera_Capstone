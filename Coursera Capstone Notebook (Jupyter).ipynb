{
 "cells": [
  {
   "cell_type": "markdown",
   "metadata": {},
   "source": [
    "# Coursera Capstone to the IBM Data Science Programs\n",
    "Mark Brantana"
   ]
  },
  {
   "cell_type": "markdown",
   "metadata": {},
   "source": [
    "Purpose:\n",
    "\n",
    "This repository is to facilitate the Coursera Capstone to the IBM Data Science Programs - Mark Brantana\n",
    "\n",
    "Instructions were given as follows:\n",
    "1. Create a new repository on your Github account and name it Coursera_Capstone. I have prepared a series of videos to walk you through the process of creating a repository on Github and setting it up and getting started with Git. For Mac users, click here. For Windows users, click here.\n",
    "2. Now, start a Jupyter Notebook using any platform that you are comfortable with and do the following:\n",
    "3. Write some markdown to explain that this notebook will be mainly used for the capstone project.\n",
    "4. Import the pandas library as pd.\n",
    "5. Import the Numpy library as np.\n",
    "6. Print the following the statement: Hello Capstone Project Course!\n",
    "7. Push the Notebook to your Github repository and submit a link to the notebook on your Github repository."
   ]
  },
  {
   "cell_type": "code",
   "execution_count": 3,
   "metadata": {},
   "outputs": [
    {
     "name": "stdout",
     "output_type": "stream",
     "text": [
      "Hello Capstone Project Course!\n"
     ]
    }
   ],
   "source": [
    "# Items 4, 5 & 6.\n",
    "import pandas as pd\n",
    "import numpy as np\n",
    "print(\"Hello Capstone Project Course!\")"
   ]
  }
 ],
 "metadata": {
  "kernelspec": {
   "display_name": "Python 3",
   "language": "python",
   "name": "python3"
  },
  "language_info": {
   "codemirror_mode": {
    "name": "ipython",
    "version": 3
   },
   "file_extension": ".py",
   "mimetype": "text/x-python",
   "name": "python",
   "nbconvert_exporter": "python",
   "pygments_lexer": "ipython3",
   "version": "3.7.6"
  }
 },
 "nbformat": 4,
 "nbformat_minor": 4
}
