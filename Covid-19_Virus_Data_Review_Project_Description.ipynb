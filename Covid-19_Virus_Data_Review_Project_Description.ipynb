{
 "cells": [
  {
   "cell_type": "code",
   "execution_count": null,
   "metadata": {},
   "outputs": [],
   "source": []
  },
  {
   "cell_type": "code",
   "execution_count": 2,
   "metadata": {},
   "outputs": [
    {
     "ename": "SyntaxError",
     "evalue": "invalid syntax (<ipython-input-2-c41f4907ec5e>, line 1)",
     "output_type": "error",
     "traceback": [
      "\u001b[0;36m  File \u001b[0;32m\"<ipython-input-2-c41f4907ec5e>\"\u001b[0;36m, line \u001b[0;32m1\u001b[0m\n\u001b[0;31m    A description of the problem and a discussion of the background. (15 marks)\u001b[0m\n\u001b[0m                ^\u001b[0m\n\u001b[0;31mSyntaxError\u001b[0m\u001b[0;31m:\u001b[0m invalid syntax\n"
     ]
    }
   ],
   "source": [
    "A description of the problem and a discussion of the background. (15 marks)\n",
    "A description of the data and how it will be used to solve the problem. (15 marks)\n",
    "For the second week, the final deliverables of the project will be:\n",
    "\n",
    "A link to your Notebook on your Github repository, showing your code. (15 marks)\n",
    "A full report consisting of all of the following components (15 marks):\n",
    "Introduction where you discuss the business problem and who would be interested in this project.\n",
    "Data where you describe the data that will be used to solve the problem and the source of the data.\n",
    "Methodology section which represents the main component of the report where you discuss and describe any exploratory data analysis that you did, any inferential statistical testing that you performed, if any, and what machine learnings were used and why.\n",
    "Results section where you discuss the results.\n",
    "Discussion section where you discuss any observations you noted and any recommendations you can make based on the results.\n",
    "Conclusion section where you conclude the report.\n",
    "3. Your choice of a presentation or blogpost. (10 marks)"
   ]
  },
  {
   "cell_type": "code",
   "execution_count": null,
   "metadata": {},
   "outputs": [],
   "source": [
    "Covid-19 Virus Data Review: A Novel Method for Review of Moving Average Data over Repetitive Data of Patterned Inconsistent Intermediates"
   ]
  }
 ],
 "metadata": {
  "kernelspec": {
   "display_name": "Python 3",
   "language": "python",
   "name": "python3"
  },
  "language_info": {
   "codemirror_mode": {
    "name": "ipython",
    "version": 3
   },
   "file_extension": ".py",
   "mimetype": "text/x-python",
   "name": "python",
   "nbconvert_exporter": "python",
   "pygments_lexer": "ipython3",
   "version": "3.7.6"
  }
 },
 "nbformat": 4,
 "nbformat_minor": 4
}
