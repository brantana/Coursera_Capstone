{
 "cells": [
  {
   "cell_type": "markdown",
   "metadata": {},
   "source": [
    "# Covid-19 Virus Data Review\n",
    "## New Method to enhance evaluation Moving Averages when weekly data repeats, but daily data sources vary."
   ]
  },
  {
   "cell_type": "markdown",
   "metadata": {},
   "source": [
    "### Description of the Problem and Discussion of the Background"
   ]
  },
  {
   "cell_type": "markdown",
   "metadata": {},
   "source": [
    "Timely and accurate trend information has been important to every individual throughout the current global pandemic.  We all need to know whether things are getting better or worse, whether to hunker down or go out, when we can expect to return to normalcy, and whether we can trust what our politicians to tell us the truth about things.<br><br>\n",
    "Johns Hopkins University began tracking the Covid-19 virus early on. Daily data has been available through their COVID-19 Dashboard, shown below. The image shown is dated 9/27/2020, 1:26 am CST."
   ]
  },
  {
   "cell_type": "markdown",
   "metadata": {},
   "source": [
    "![](100.png)"
   ]
  },
  {
   "cell_type": "markdown",
   "metadata": {},
   "source": [
    "Of interest in this study are the daily report graphics, highlighted in the graphics below. Of particular note is the saw-tooth pattern rather than the typically smooth data we might expect from consistent large data. A general 7-day pattern particularly emerges, which is likely due to the frequency and timeliness of data made available. The individual weekday data cannot truly be said to be as different as apples and oranges. However, they graphc shows that they are more akin to different varieties of apples from one day to the next, and repeated weekly. This pattern appears in all of the Daily graphs. Regardless of region or statistic the same patter emerges."
   ]
  },
  {
   "cell_type": "markdown",
   "metadata": {},
   "source": [
    "The most recent source Information, Links and Terms of Use are available from their referenced Repository in [GitHub.](https://github.com/CSSEGISandData/COVID-19.git)"
   ]
  },
  {
   "cell_type": "markdown",
   "metadata": {},
   "source": [
    "![](120.png)"
   ]
  },
  {
   "cell_type": "markdown",
   "metadata": {},
   "source": [
    "In general a 7-day Moving Average might smooth this data. However, the change from one day to the next seems significant enough that it might become it difficult to discern the actual trend in the virus, whether dynamically increasing, inflecting or decreasing."
   ]
  },
  {
   "cell_type": "markdown",
   "metadata": {},
   "source": [
    "This study considers a method to score the COVID-19 trending data through \"voting moving averages\" over the current and preceeding 7 days to gain an predictive index which can better indicate the dynamic trend."
   ]
  },
  {
   "cell_type": "markdown",
   "metadata": {},
   "source": [
    "The discussion thus far has focused upon Global Daily Cases. For purposes of this study, a subset is used, which focuses upon Texas Daily Cases. Although this narrows down the source information significantly, it is clear in the following that the same 7-day pattern prevails, but appears worse, as illustrated in he following graph from 9/27/2020 10:40 PM. The Texas plot illustrates how difficult it may be to determine from one day to the next whether they are winning the fight; ie: new cases are declining."
   ]
  },
  {
   "cell_type": "markdown",
   "metadata": {},
   "source": [
    "![](200.png)"
   ]
  },
  {
   "cell_type": "markdown",
   "metadata": {},
   "source": [
    "### Description of the Data and How it is to be Used to Solve the Problem."
   ]
  },
  {
   "cell_type": "markdown",
   "metadata": {},
   "source": [
    "Global US data is to be downloaded directly from Johns Hopkins, to a Dataframe. It will be scrubbed leaving only the pertinent information relating to Texas Daily Cases."
   ]
  },
  {
   "cell_type": "markdown",
   "metadata": {},
   "source": [
    "The revised dataset will be considered to contain information from an undefined subset of the whole source list.  However, there is little value in identifying the specific sources, as it is considered that the appropriate sources are sampled over various days. No assumption is made as to the specific time, day, or date of the individual source samplings, and though there may be an assumption that most of the individual data is generally sampled from one week to the next. The writer believes this may be sufficient periodicity to significantly smooth the data for good result. "
   ]
  },
  {
   "cell_type": "markdown",
   "metadata": {},
   "source": [
    "For example, considering a simple up (positive), down (negative), even (unchanging) average scoring system:\n",
    " - suppose in the past week that all seven dynamic moving averages concluded positive slopes. This would be a strong indicator of increasing daily new cases. \n",
    " - Likewise, seven negative dynamic moving averages would strongly indicate a reducing number of new cases. \n",
    " - A mixed, but smoothly transitioning result, though less strong, might contain some useful trend information especially if comparison with previous dates could be shown to support the predicted transition.  In this case, previous analyses may help validate the predicted trend, and might do so with some signicant reliability given the increased number of data points contributed by the previous week(s).\n",
    " - Least helpful, and indicating only uncertainty is a mixed result lacking any trend. Such a result would clearly contribute less overall trending information, either up or down or steady."
   ]
  },
  {
   "cell_type": "markdown",
   "metadata": {},
   "source": [
    "An improvement to the above may be a normalized numerical average. This scheme will be reviewed as well."
   ]
  },
  {
   "cell_type": "markdown",
   "metadata": {},
   "source": [
    "As the premise of this approach is that weekday sources change, what we are really saying is that Sunday, Monday, Tuesday, Wednesday, Thursday, Friday, and Saturday data are each different from each other as apples, oranges, bananas, ... etc. That is to say that if they were all apples then a moving average analysis would be sufficient. Review of the patterns in the graph indicate that they are not all \"apples.\""
   ]
  },
  {
   "cell_type": "markdown",
   "metadata": {},
   "source": [
    "Because of this variety normalized and proportionalized data may yield to KNN analysis, demonstrating the degree to which the week day data varies."
   ]
  },
  {
   "cell_type": "markdown",
   "metadata": {},
   "source": [
    "Ultimately, the overall data will be treated to Moving Average analysis, and its trend will be compared to that of the Dynamic Moving Average analysis. "
   ]
  },
  {
   "cell_type": "markdown",
   "metadata": {},
   "source": [
    "### Link to Project Notebook in Github Repository containing Code"
   ]
  },
  {
   "cell_type": "markdown",
   "metadata": {},
   "source": [
    "To be completed as part of Week 2 assgnment."
   ]
  },
  {
   "cell_type": "markdown",
   "metadata": {},
   "source": [
    "### Full report all of the following sections:\n",
    " - Introduction to the business problem and who would be interested in this project. \n",
    " - Data - Data used to solve the problem and the source of the data.\n",
    " - Methodology - representing the main component of the report to discuss\n",
    "and describe exploratory data analysis and inferential statistical testing performed, what machine learnings were used and why. \n",
    " - Results - section where you discuss the results. \n",
    " - Discussion - section where you discuss any observations you noted and recommendations based upon the results. \n",
    " - Conclusion - section where you conclude the report. \n",
    " - Presentation or Blogpost."
   ]
  },
  {
   "cell_type": "markdown",
   "metadata": {},
   "source": [
    "### Link to Full Report"
   ]
  },
  {
   "cell_type": "markdown",
   "metadata": {},
   "source": [
    "To be completed as part of Week 2 assgnment."
   ]
  },
  {
   "cell_type": "markdown",
   "metadata": {},
   "source": [
    "### Credit:"
   ]
  },
  {
   "cell_type": "markdown",
   "metadata": {},
   "source": [
    "The above described analyses, along with any errors or omissions, shall be deemed to be the responsibility of the writer, Mark Brantana,who offers his thanks and credits for the terrific dataset and great humanitarian service offered by Johns Hopkins University, as follows:\n",
    "\n",
    "The data set is licensed under the Creative Commons Attribution 4.0 International (CC BY 4.0) by the Johns Hopkins University on behalf of its Center for Systems Science in Engineering. Copyright Johns Hopkins University 2020.\n",
    "\n",
    "Attribute the data as the \"COVID-19 Data Repository by the Center for Systems Science and Engineering (CSSE) at Johns Hopkins University\" or \"JHU CSSE COVID-19 Data\" for short, and the url: https://github.com/CSSEGISandData/COVID-19.\n",
    "\n",
    "For publications that use the data, please cite the following publication: \"Dong E, Du H, Gardner L. An interactive web-based dashboard to track COVID-19 in real time. Lancet Inf Dis. 20(5):533-534. doi: 10.1016/S1473-3099(20)30120-1\""
   ]
  },
  {
   "cell_type": "markdown",
   "metadata": {},
   "source": [
    "### Appendix 1 Source List as of Writing"
   ]
  },
  {
   "cell_type": "markdown",
   "metadata": {},
   "source": [
    "### DATA SOURCES:\n",
    "This list includes a complete list of all sources ever used in the data set, since January 21, 2010. Some sources listed here (e.g., WHO, ECDC, US CDC, BNO News) are not currently relied upon as a source of data.\n",
    "\n",
    "- Aggregated data sources:\n",
    "  - World Health Organization (WHO): https://www.who.int/\n",
    "  - European Centre for Disease Prevention and Control (ECDC): https://www.ecdc.europa.eu/en/geographical-distribution-2019-ncov-cases \n",
    "  - DXY.cn. Pneumonia. 2020. http://3g.dxy.cn/newh5/view/pneumonia\n",
    "  - US CDC: https://www.cdc.gov/coronavirus/2019-ncov/index.html\n",
    "  - BNO News: https://bnonews.com/index.php/2020/02/the-latest-coronavirus-cases/\n",
    "  - WorldoMeters: https://www.worldometers.info/coronavirus/  \n",
    "  - 1Point3Arces: https://coronavirus.1point3acres.com/en  \n",
    "  - COVID Tracking Project: https://covidtracking.com/data. (US Testing and Hospitalization Data. We use the maximum reported value from \"Currently\" and \"Cumulative\" Hospitalized for our hospitalization number reported for each state.)\n",
    "  - Los Angeles Times: https://www.latimes.com/projects/california-coronavirus-cases-tracking-outbreak/\n",
    "  - The Mercury News: https://www.mercurynews.com/tag/coronavirus/\n",
    "\n",
    "- US data sources at the state (Admin1) or county/city (Admin2) level:  \n",
    "  - Washington State Department of Health: https://www.doh.wa.gov/emergencies/coronavirus\n",
    "  - Maryland Department of Health: https://coronavirus.maryland.gov/\n",
    "  - New York State Department of Health: https://health.data.ny.gov/Health/New-York-State-Statewide-COVID-19-Testing/xdss-u53e/data\n",
    "  - New York City Health Department: https://www1.nyc.gov/site/doh/covid/covid-19-data.page\n",
    "  - NYC Department of Health and Mental Hygiene: https://www1.nyc.gov/site/doh/covid/covid-19-data.page and https://github.com/nychealth/coronavirus-data\n",
    "  - Florida Department of Health Dashboard: https://services1.arcgis.com/CY1LXxl9zlJeBuRZ/arcgis/rest/services/Florida_COVID19_Cases/FeatureServer/0\n",
    "    and https://fdoh.maps.arcgis.com/apps/opsdashboard/index.html#/8d0de33f260d444c852a615dc7837c86\n",
    "  - Colorado: https://covid19.colorado.gov/covid-19-data\n",
    "  - Virginia: https://www.vdh.virginia.gov/coronavirus/\n",
    "  - Northern Mariana Islands CNMI Department of Public Health: https://cnmichcc.maps.arcgis.com/apps/opsdashboard/index.html#/4061b674fc964efe84f7774b7979d2b5\n",
    "  - Missouri Department of Health: https://www.arcgis.com/apps/MapSeries/index.html?appid=8e01a5d8d8bd4b4f85add006f9e14a9d\n",
    "  - Missouri: Nodaway County: https://www.nodawaypublichealth.org/\n",
    "  - St. Louis City Department of Health: https://www.stlouis-mo.gov/covid-19/data/#totalsByDate\n",
    "  - St. Louis County: https://stlcorona.com/resources/covid-19-statistics1/\n",
    "  - Massachusetts: https://www.mass.gov/info-details/covid-19-response-reporting\n",
    "  - Michigan: https://www.michigan.gov/coronavirus/0,9753,7-406-98163_98173---,00.html \n",
    "  - Illinois Department of Public Health: https://dph.illinois.gov/covid19\n",
    "  - Indiana State Department of Health: https://hub.mph.in.gov/dataset?q=COVID\n",
    "  - Connecticut Department of Public Health: https://data.ct.gov/stories/s/COVID-19-data/wa3g-tfvc/\n",
    "  - Ohio Department of Health: https://coronavirus.ohio.gov/wps/portal/gov/covid-19/home\n",
    "  - Oregon Office of Emergency Management: https://experience.arcgis.com/experience/fff9f83827c5461583cd014fdf4587de\n",
    "  - Tennessee Department of Health: https://www.tn.gov/health/cedep/ncov.html\n",
    "  - Rhode Island Department of Health: https://ri-department-of-health-covid-19-data-rihealth.hub.arcgis.com/\n",
    "  - Wisconsin Department of Health Services: https://www.dhs.wisconsin.gov/covid-19/data.htm\n",
    "  - North Carolina City of Greenville GIS: https://www.arcgis.com/apps/opsdashboard/index.html#/7aeac695cafa4065ba1505b1cfa72747\n",
    "  - Iowa State Government: https://coronavirus.iowa.gov/\n",
    "  - Minnesota Department of Health: https://www.health.state.mn.us/diseases/coronavirus/situation.html\n",
    "  - Alabama Public Health: https://www.alabamapublichealth.gov/covid19/\n",
    "  - Mississippi State Department of Health: https://msdh.ms.gov/msdhsite/_static/14,0,420.html\n",
    "  - Nebraska Department of Health and Human Services: https://experience.arcgis.com/experience/ece0db09da4d4ca68252c3967aa1e9dd\n",
    "  - South Carolina Department of Health and Environmental Control: https://scdhec.gov/infectious-diseases/viruses/coronavirus-disease-2019-covid-19/sc-testing-data-projections-covid-19\n",
    "  - Nevada Department of Health and Human Services: https://nvhealthresponse.nv.gov/\n",
    "  - New Jersey Department of Health: https://covid19.nj.gov/\n",
    "  - Delaware Emergency Management Agency: https://coronavirus.delaware.gov/\n",
    "  - Utah Department of Health: https://coronavirus-dashboard.utah.gov/#overview\n",
    "  - Arizona Emergency Support Function (ESF)/Recovery Support Function (RSF) Operations Dashboard: https://www.arcgis.com/apps/MapSeries/index.html?appid=62e6bfa682a34e6aae9d9255ac865467\n",
    "  - Departamento de Salud, Puerto Rico: https://bioseguridad.maps.arcgis.com/apps/opsdashboard/index.html#/d7308c1abb4747e584329adf1215125e\n",
    "  - Arkansas Department of Health: https://experience.arcgis.com/experience/c2ef4a4fcbe5458fbf2e48a21e4fece9\n",
    "  - Maine Department of Health and Human Services: https://www.maine.gov/dhhs/mecdc/infectious-disease/epi/airborne/coronavirus/data.shtml\n",
    "  - Pennsylvania Department of Health: https://www.health.pa.gov/topics/disease/coronavirus/Pages/Cases.aspx\n",
    "  - City of Philadelphia: https://www.phila.gov/programs/coronavirus-disease-2019-covid-19/\n",
    "  - Lancaster County: https://covid-19-lancastercountypa.hub.arcgis.com/\n",
    "  - Chester County: https://chesco.maps.arcgis.com/apps/opsdashboard/index.html#/975082d579454c3ca7877db0a44e61ca\n",
    "  - Louisiana Department of Health: http://ldh.la.gov/coronavirus/\n",
    "  - Government of The District of Columbia: https://coronavirus.dc.gov/page/coronavirus-data \n",
    "  - North Dakota Department of Health: https://www.health.nd.gov/diseases-conditions/coronavirus/north-dakota-coronavirus-cases\n",
    "  - Oklahoma State Department of Health: https://looker-dashboards.ok.gov/embed/dashboards/44\n",
    "  - Guam Department of Public Health and Social Services: http://dphss.guam.gov/covid-19/ \n",
    "  - New Mexico Department of Health: https://cvprovider.nmhealth.org/public-dashboard.html\n",
    "  - Kentucky Department of Public Health: https://kygeonet.maps.arcgis.com/apps/opsdashboard/index.html#/543ac64bc40445918cf8bc34dc40e334\n",
    "  - Georgia Department of Public Health: https://dph.georgia.gov/covid-19-daily-status-report\n",
    "  - State of Hawai'i Department of Health: https://health.hawaii.gov/coronavirusdisease2019/what-you-should-know/current-situation-in-hawaii/\n",
    "  - Reno County Health Department: http://reno.maps.arcgis.com/apps/opsdashboard/index.html#/dfaef27aede1414b89abf393b2ccb994\n",
    "  - Texas Department of State Health Services: https://dshs.texas.gov/coronavirus/\n",
    "  - Texas: City of San Antonio: https://covid19.sanantonio.gov/Home\n",
    "  - Texas: Brazioria County: https://www.brazoriacountytx.gov/departments/health-department/brazoria-county-coronavirus-map\n",
    "  - Texas: Brazos County Health District: http://www.brazoshealth.org\n",
    "  - Texas: Cameron County Public Health: https://www.cameroncounty.us/publichealth/index.php/coronavirus/\n",
    "  - Texas: Collin County: https://www.collincountytx.gov/healthcare_services/Pages/news.aspx\n",
    "  - Texas: Dallas County: https://www.dallascounty.org/departments/dchhs/2019-novel-coronavirus.php\n",
    "  - Texas: Denton County: https://gis-covid19-dentoncounty.hub.arcgis.com/pages/covid-19cases\n",
    "  - Texas: Ector County:  http://www.co.ector.tx.us/page/ector.CoronavirusCOVID19\n",
    "  - Texas: City of El Paso: http://epstrong.org/results.php\n",
    "  - Texas: Fayette County: https://www.co.fayette.tx.us/\n",
    "  - Texas: Fort Bend County Health & Human Services: https://www.fbchealth.org/ncov/\n",
    "  - Texas: Galveston County Health District: https://www.gchd.org/about-us/news-and-events/coronavirus-disease-2019-covid-19/galveston-county-confirmed-covid-19-cases\n",
    "  - Texas: Harris County: https://publichealth.harriscountytx.gov/Resources/2019-Novel-Coronavirus\n",
    "  - Texas: Hays County: https://hayscountytx.com/covid-19-information-for-hays-county-residents/\n",
    "  - Texas: Hidalgo County Health and Human Services: https://www.hidalgocounty.us/2630/Coronavirus-Updates\n",
    "  - Texas: Midland County: https://www.midlandtexas.gov/955/Coronavirus-COVID-19\n",
    "  - Texas: Montgomery County: https://coronavirus-response-moco.hub.arcgis.com/\n",
    "  - Texas: City of Corpus Christi: https://www.cctexas.com/coronavirus\n",
    "  - Texas: Amarillo Public Health Department: https://covid-data-amarillo.hub.arcgis.com/\n",
    "  - Texas: Tarrant County Public Health: https://www.tarrantcounty.com/en/public-health/disease-control---prevention/coronaviruas.html\n",
    "  - Texas: City of Mount Pleasant: https://www.mpcity.net/632/COVID-19-UPDATES\n",
    "  - Texas: City of San Angelo: https://www.cosatx.us/departments-services/health-services/coronavirus-covid-19#ad-image-0\n",
    "  - Texas: San Angelo Standard-Times: https://www.gosanangelo.com/\n",
    "  - Texas: Travis County: https://www.traviscountytx.gov/news/2020/1945-novel-coronavirus-covid-19-information\n",
    "  - Texas: City of Laredo: https://www.cityoflaredo.com/coronavirus/\n",
    "  - Texas: Williamson County & Cities Health District: http://www.wcchd.org/COVID-19/dashboard.php\n",
    "  - California Department of Publich Health: https://www.cdph.ca.gov/covid19\n",
    "  - California: Mariposa County: https://www.mariposacounty.org/1592/COVID-19-Information\n",
    "  - California: Alameda County Public Health Department: https://covid-19.acgov.org/\n",
    "  - California: Fresno County Public Health Department: https://www.co.fresno.ca.us/departments/public-health/covid-19\n",
    "  - California: Humboldt County: https://humboldtgov.org/\n",
    "  - California: Madera County: https://www.maderacounty.com/government/public-health/corona-virus-covid-19/covid-revised\n",
    "  - California: Marin County Health & Human Services: https://coronavirus.marinhhs.org/\n",
    "  - California: Orange County Health Care Agency: https://occovid19.ochealthinfo.com/coronavirus-in-oc\n",
    "  - California: Placer County: https://www.placer.ca.gov/coronavirus\n",
    "  - California: Riverside County: https://www.rivcoph.org/coronavirus\n",
    "  - California: Sacramento County: https://www.saccounty.net/COVID-19/\n",
    "  - California: San Francisco Department of Public Helath: https://www.sfdph.org/dph/alerts/coronavirus.asp\n",
    "  - California: San Benito County Health & Human Services: https://hhsa.cosb.us/publichealth/communicable-disease/coronavirus/\n",
    "  - California: San Joaquin County Public Health Services: http://www.sjcphs.org/coronavirus.aspx\n",
    "  - California: San Mateo County: https://www.smchealth.org/coronavirus\n",
    "  - California: Santa Cruz County Health Services Agency: http://www.santacruzhealth.org/HSAHome/HSADivisions/PublicHealth/CommunicableDiseaseControl/CoronavirusHome.aspx\n",
    "  - California: Shasta County: https://www.co.shasta.ca.us/covid-19/overview\n",
    "  - California: Solano County: https://www.co.shasta.ca.us/covid-19/overview\n",
    "  - California: Sonoma County: https://socoemergency.org/emergency/novel-coronavirus/coronavirus-cases/\n",
    "  - California: Stanislaus County Health Services Agency: http://schsa.org/publichealth/pages/corona-virus/\n",
    "  - California: Ventura County: https://www.venturacountyrecovers.org/\n",
    "  - California: Yolo County: https://www.yolocounty.org/health-human-services/adults/communicable-disease-investigation-and-control/novel-coronavirus-2019/\n",
    "  - California: Los Angeles County: http://publichealth.lacounty.gov/media/coronavirus/\n",
    "  - California: San Diego County: https://www.sandiegocounty.gov/coronavirus.html\n",
    "  - California: Santa Clara County: https://www.sccgov.org/sites/covid19/\n",
    "  - California: Imperial County Public Health Department: http://www.icphd.org/health-information-and-resources/healthy-facts/covid-19/\n",
    "  - California: San Bernardino County: https://sbcovid19.com/\n",
    "  - Montana Department of Public Health and Human Services: https://dphhs.mt.gov/publichealth/cdepi/diseases/coronavirusmt\n",
    "  - South Dakota Department of Health: https://doh.sd.gov/news/coronavirus.aspx\n",
    "  - Wyoming Department of Health: https://health.wyo.gov/publichealth/infectious-disease-epidemiology-unit/disease/novel-coronavirus/\n",
    "  - New Hampshire Department of Health and Human Services: https://www.nh.gov/covid19/dashboard/summary.htm\n",
    "  - Idaho Government: https://coronavirus.idaho.gov/\n",
    "  - Virgin Islands Department of Health: https://www.covid19usvi.com/\n",
    "  - Vermont Department of Health: https://www.healthvermont.gov/response/coronavirus-covid-19/current-activity-vermont\n",
    "\n",
    "  \n",
    "- Non-US data sources at the country/region (Admin0) or state/province (Admin1) level:\n",
    "  - National Health Commission of the People’s Republic of China (NHC):\n",
    "    http://www.nhc.gov.cn/xcs/yqtb/list_gzbd.shtml\n",
    "  - China CDC (CCDC): http://weekly.chinacdc.cn/news/TrackingtheEpidemic.htm\n",
    "  - Hong Kong Department of Health: https://www.chp.gov.hk/en/features/102465.html\n",
    "  - Macau Government: https://www.ssm.gov.mo/portal/\n",
    "  - Taiwan CDC: https://sites.google.com/cdc.gov.tw/2019ncov/taiwan?authuser=0\n",
    "  - Government of Canada: https://www.canada.ca/en/public-health/services/diseases/coronavirus.html\n",
    "  - Australia Government Department of Health: https://www.health.gov.au/news/coronavirus-update-at-a-glance\n",
    "  - COVID Live (Australia): https://www.covidlive.com.au/\n",
    "  - Ministry of Health Singapore (MOH): https://www.moh.gov.sg/covid-19\n",
    "  - Italy Ministry of Health: http://www.salute.gov.it/nuovocoronavirus\n",
    "  - Dati COVID-19 Italia (Italy): https://github.com/pcm-dpc/COVID-19/tree/master/dati-regioni\n",
    "  - French Government: https://dashboard.covid19.data.gouv.fr/ and https://github.com/opencovid19-fr/data/blob/master/dist/chiffres-cles.json\n",
    "  - OpenCOVID19 France: https://github.com/opencovid19-fr\n",
    "  - Palestine (West Bank and Gaza): https://corona.ps/details\n",
    "  - Israel: https://govextra.gov.il/ministry-of-health/corona/corona-virus/\n",
    "  - Ministry of Health, Republic of Kosovo: https://kosova.health/ and https://covidks.s3.amazonaws.com/data.json\n",
    "  - Berliner Morgenpost (Germany): https://interaktiv.morgenpost.de/corona-virus-karte-infektionen-deutschland-weltweit/\n",
    "  - rtve (Spain): https://www.rtve.es/noticias/20200514/mapa-del-coronavirus-espana/2004681.shtml\n",
    "  - Ministry of Health, Republic of Serbia: https://covid19.rs/homepage-english/ \n",
    "  - Chile: https://www.minsal.cl/nuevo-coronavirus-2019-ncov/casos-confirmados-en-chile-covid-19/\n",
    "  - Chile: https://www.gob.cl/coronavirus/cifrasoficiales/\n",
    "  - Brazil Ministry of Health: https://covid.saude.gov.br/\n",
    "  - Brazil: https://github.com/wcota/covid19br. Data described in [DOI: 10.1590/SciELOPreprints.362](https://doi.org/10.1590/SciELOPreprints.362)\n",
    "  - Gobierono De Mexico:https://covid19.sinave.gob.mx/\n",
    "  - Japan COVID-19 Coronavirus Tracker: https://covid19japan.com/#all-prefectures\n",
    "  - Monitoreo del COVID-19 en Perú -  Policía Nacional del Perú (PNP) - Dirección de Inteligencia (DIRIN): https://www.arcgis.com/apps/opsdashboard/index.html#/f90a7a87af2548699d6e7bb72f5547c2 and Ministerio de Salud del Perú: https://covid19.minsa.gob.pe/sala_situacional.asp\n",
    "  - Colombia National Institute of Health: http://www.ins.gov.co/Noticias/Paginas/Coronavirus.aspx\n",
    "  - Russia: https://xn--80aesfpebagmfblc0a.xn--p1ai/information/\n",
    "  - Ukraine: https://covid19.rnbo.gov.ua/\n",
    "  - Public Health Agency of Sweden: https://experience.arcgis.com/experience/09f821667ce64bf7be6f9f87457ed9aa\n",
    "  - Government of India: https://www.mygov.in/covid-19\n",
    "  - Government of Pakistan: http://covid.gov.pk/stats/pakistan\n",
    "  - The UK Government: https://coronavirus.data.gov.uk/#category=nations&map=rate\n",
    "  - Scottish Government: https://www.gov.scot/publications/coronavirus-covid-19-trends-in-daily-data/\n",
    "  - Netherlands National Institute for Health and Environment: https://experience.arcgis.com/experience/ea064047519040469acb8da05c0f100d\n",
    "  - Iceland Directorate of Health and Department of Civil Protection and Emergency Management: https://www.covid.is/data\n",
    "  - Luxembourg Government Ministry of Health: https://msan.gouvernement.lu/en/graphiques-evolution.html\n"
   ]
  }
 ],
 "metadata": {
  "kernelspec": {
   "display_name": "Python 3",
   "language": "python",
   "name": "python3"
  },
  "language_info": {
   "codemirror_mode": {
    "name": "ipython",
    "version": 3
   },
   "file_extension": ".py",
   "mimetype": "text/x-python",
   "name": "python",
   "nbconvert_exporter": "python",
   "pygments_lexer": "ipython3",
   "version": "3.7.6"
  }
 },
 "nbformat": 4,
 "nbformat_minor": 4
}
